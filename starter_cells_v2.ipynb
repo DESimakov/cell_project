{
 "cells": [
  {
   "cell_type": "code",
   "execution_count": 1,
   "metadata": {},
   "outputs": [
    {
     "name": "stdout",
     "output_type": "stream",
     "text": [
      "E:\\cells\\train\n"
     ]
    }
   ],
   "source": [
    "cd E:/cells/train"
   ]
  },
  {
   "cell_type": "code",
   "execution_count": 2,
   "metadata": {},
   "outputs": [],
   "source": [
    "import copy\n",
    "from sklearn.model_selection import LeaveOneOut\n",
    "import torch.nn as nn\n",
    "import torch.optim as optim\n",
    "from torch.optim import lr_scheduler\n",
    "import pretrainedmodels\n",
    "import warnings\n",
    "warnings.filterwarnings(\"ignore\")\n",
    "\n",
    "from utils_data_load import *\n",
    "from train_functions import *"
   ]
  },
  {
   "cell_type": "code",
   "execution_count": 5,
   "metadata": {},
   "outputs": [],
   "source": [
    "data_dir = 'E:/cells/train/train'\n",
    "model_path = \"E:/cells/models/\"\n",
    "\n",
    "use_gpu = torch.cuda.is_available()"
   ]
  },
  {
   "cell_type": "code",
   "execution_count": 6,
   "metadata": {},
   "outputs": [],
   "source": [
    "model_ft = pretrainedmodels.__dict__['resnet18'](num_classes=1000, pretrained='imagenet')\n",
    "model_ft.last_linear = nn.Linear(512, 2)\n",
    "params_to_train = model_ft.parameters()\n",
    "\n",
    "if use_gpu:\n",
    "    model_ft = model_ft.cuda()\n",
    "\n",
    "criterion = nn.CrossEntropyLoss()\n",
    "optimizer_ft = torch.optim.Adam(params_to_train, lr=0.00001)\n",
    "exp_lr_scheduler = lr_scheduler.StepLR(optimizer_ft, step_size=7, gamma=0.1)"
   ]
  },
  {
   "cell_type": "code",
   "execution_count": 7,
   "metadata": {
    "scrolled": false
   },
   "outputs": [
    {
     "name": "stdout",
     "output_type": "stream",
     "text": [
      "==========\n",
      "VAL FOLD fold_0\n",
      "==========\n",
      "Epoch 0/2\n",
      "----------\n"
     ]
    },
    {
     "name": "stderr",
     "output_type": "stream",
     "text": [
      "100%|██████████| 298/298 [00:57<00:00,  5.17it/s]\n"
     ]
    },
    {
     "name": "stdout",
     "output_type": "stream",
     "text": [
      "train Loss: 0.0172, roc_auc: 0.8486, pr_rec_auc: 0.7803, f1_max: 0.7796, f1-05: 0.7185, f1_auc: 3.2736\n"
     ]
    },
    {
     "name": "stderr",
     "output_type": "stream",
     "text": [
      "100%|██████████| 147/147 [00:15<00:00,  9.26it/s]\n"
     ]
    },
    {
     "name": "stdout",
     "output_type": "stream",
     "text": [
      "val Loss: 0.3379, roc_auc: 0.9066, pr_rec_auc: 0.8587, f1_max: 0.8387, f1-05: 0.7672, f1_auc: 3.5233\n",
      "Elapsed 1m 28s\n",
      "\n",
      "Epoch 1/2\n",
      "----------\n"
     ]
    },
    {
     "name": "stderr",
     "output_type": "stream",
     "text": [
      "100%|██████████| 298/298 [00:58<00:00,  5.13it/s]\n"
     ]
    },
    {
     "name": "stdout",
     "output_type": "stream",
     "text": [
      "train Loss: 0.0125, roc_auc: 0.9227, pr_rec_auc: 0.8865, f1_max: 0.8541, f1-05: 0.8075, f1_auc: 4.1106\n"
     ]
    },
    {
     "name": "stderr",
     "output_type": "stream",
     "text": [
      "100%|██████████| 147/147 [00:15<00:00,  9.68it/s]\n"
     ]
    },
    {
     "name": "stdout",
     "output_type": "stream",
     "text": [
      "val Loss: 0.2980, roc_auc: 0.9285, pr_rec_auc: 0.8832, f1_max: 0.8653, f1-05: 0.8334, f1_auc: 4.4953\n",
      "Elapsed 2m 56s\n",
      "\n",
      "Epoch 2/2\n",
      "----------\n"
     ]
    },
    {
     "name": "stderr",
     "output_type": "stream",
     "text": [
      "100%|██████████| 298/298 [00:54<00:00,  5.42it/s]\n"
     ]
    },
    {
     "name": "stdout",
     "output_type": "stream",
     "text": [
      "train Loss: 0.0104, roc_auc: 0.9480, pr_rec_auc: 0.9184, f1_max: 0.8800, f1-05: 0.8435, f1_auc: 4.8541\n"
     ]
    },
    {
     "name": "stderr",
     "output_type": "stream",
     "text": [
      "100%|██████████| 147/147 [00:15<00:00,  9.75it/s]\n"
     ]
    },
    {
     "name": "stdout",
     "output_type": "stream",
     "text": [
      "val Loss: 0.3163, roc_auc: 0.9383, pr_rec_auc: 0.9002, f1_max: 0.8759, f1-05: 0.8749, f1_auc: 4.9873\n",
      "Elapsed 4m 19s\n",
      "\n",
      "Training complete in 4m 19s\n",
      "Best val f1_max: 0.875901\n",
      "==========\n",
      "VAL FOLD fold_1\n",
      "==========\n",
      "Epoch 0/2\n",
      "----------\n"
     ]
    },
    {
     "name": "stderr",
     "output_type": "stream",
     "text": [
      "100%|██████████| 295/295 [00:54<00:00,  5.39it/s]\n"
     ]
    },
    {
     "name": "stdout",
     "output_type": "stream",
     "text": [
      "train Loss: 0.0104, roc_auc: 0.9475, pr_rec_auc: 0.9157, f1_max: 0.8825, f1-05: 0.8520, f1_auc: 5.1895\n"
     ]
    },
    {
     "name": "stderr",
     "output_type": "stream",
     "text": [
      "100%|██████████| 150/150 [00:17<00:00,  8.54it/s]\n"
     ]
    },
    {
     "name": "stdout",
     "output_type": "stream",
     "text": [
      "val Loss: 0.1954, roc_auc: 0.9708, pr_rec_auc: 0.9541, f1_max: 0.9148, f1-05: 0.8761, f1_auc: 5.2382\n",
      "Elapsed 1m 27s\n",
      "\n",
      "Epoch 1/2\n",
      "----------\n"
     ]
    },
    {
     "name": "stderr",
     "output_type": "stream",
     "text": [
      "100%|██████████| 295/295 [00:56<00:00,  5.26it/s]\n"
     ]
    },
    {
     "name": "stdout",
     "output_type": "stream",
     "text": [
      "train Loss: 0.0087, roc_auc: 0.9644, pr_rec_auc: 0.9411, f1_max: 0.9032, f1-05: 0.8754, f1_auc: 5.4917\n"
     ]
    },
    {
     "name": "stderr",
     "output_type": "stream",
     "text": [
      "100%|██████████| 150/150 [00:16<00:00,  9.36it/s]\n"
     ]
    },
    {
     "name": "stdout",
     "output_type": "stream",
     "text": [
      "val Loss: 0.1952, roc_auc: 0.9694, pr_rec_auc: 0.9532, f1_max: 0.9140, f1-05: 0.8985, f1_auc: 5.7143\n",
      "Elapsed 2m 53s\n",
      "\n",
      "Epoch 2/2\n",
      "----------\n"
     ]
    },
    {
     "name": "stderr",
     "output_type": "stream",
     "text": [
      "100%|██████████| 295/295 [00:57<00:00,  5.15it/s]\n"
     ]
    },
    {
     "name": "stdout",
     "output_type": "stream",
     "text": [
      "train Loss: 0.0076, roc_auc: 0.9725, pr_rec_auc: 0.9550, f1_max: 0.9207, f1-05: 0.8886, f1_auc: 6.2502\n"
     ]
    },
    {
     "name": "stderr",
     "output_type": "stream",
     "text": [
      "100%|██████████| 150/150 [00:15<00:00,  9.62it/s]\n"
     ]
    },
    {
     "name": "stdout",
     "output_type": "stream",
     "text": [
      "val Loss: 0.1960, roc_auc: 0.9671, pr_rec_auc: 0.9505, f1_max: 0.9109, f1-05: 0.8799, f1_auc: 5.9550\n",
      "Elapsed 4m 20s\n",
      "\n",
      "Training complete in 4m 20s\n",
      "Best val f1_max: 0.914827\n",
      "==========\n",
      "VAL FOLD fold_2\n",
      "==========\n",
      "Epoch 0/2\n",
      "----------\n"
     ]
    },
    {
     "name": "stderr",
     "output_type": "stream",
     "text": [
      "100%|██████████| 297/297 [00:55<00:00,  5.35it/s]\n"
     ]
    },
    {
     "name": "stdout",
     "output_type": "stream",
     "text": [
      "train Loss: 0.0071, roc_auc: 0.9768, pr_rec_auc: 0.9635, f1_max: 0.9244, f1-05: 0.9041, f1_auc: 6.6098\n"
     ]
    },
    {
     "name": "stderr",
     "output_type": "stream",
     "text": [
      "100%|██████████| 149/149 [00:15<00:00,  9.52it/s]\n"
     ]
    },
    {
     "name": "stdout",
     "output_type": "stream",
     "text": [
      "val Loss: 0.1750, roc_auc: 0.9735, pr_rec_auc: 0.9573, f1_max: 0.9227, f1-05: 0.8815, f1_auc: 6.5784\n",
      "Elapsed 1m 24s\n",
      "\n",
      "Epoch 1/2\n",
      "----------\n"
     ]
    },
    {
     "name": "stderr",
     "output_type": "stream",
     "text": [
      "100%|██████████| 297/297 [00:55<00:00,  5.38it/s]\n"
     ]
    },
    {
     "name": "stdout",
     "output_type": "stream",
     "text": [
      "train Loss: 0.0059, roc_auc: 0.9844, pr_rec_auc: 0.9736, f1_max: 0.9361, f1-05: 0.9186, f1_auc: 7.0739\n"
     ]
    },
    {
     "name": "stderr",
     "output_type": "stream",
     "text": [
      "100%|██████████| 149/149 [00:15<00:00,  9.63it/s]\n"
     ]
    },
    {
     "name": "stdout",
     "output_type": "stream",
     "text": [
      "val Loss: 0.2076, roc_auc: 0.9660, pr_rec_auc: 0.9433, f1_max: 0.9058, f1-05: 0.8659, f1_auc: 6.4119\n",
      "Elapsed 2m 47s\n",
      "\n",
      "Epoch 2/2\n",
      "----------\n"
     ]
    },
    {
     "name": "stderr",
     "output_type": "stream",
     "text": [
      "100%|██████████| 297/297 [00:55<00:00,  5.37it/s]\n"
     ]
    },
    {
     "name": "stdout",
     "output_type": "stream",
     "text": [
      "train Loss: 0.0057, roc_auc: 0.9845, pr_rec_auc: 0.9753, f1_max: 0.9419, f1-05: 0.9263, f1_auc: 7.4000\n"
     ]
    },
    {
     "name": "stderr",
     "output_type": "stream",
     "text": [
      "100%|██████████| 149/149 [00:15<00:00,  9.63it/s]\n"
     ]
    },
    {
     "name": "stdout",
     "output_type": "stream",
     "text": [
      "val Loss: 0.2252, roc_auc: 0.9644, pr_rec_auc: 0.9406, f1_max: 0.8981, f1-05: 0.8528, f1_auc: 7.3061\n",
      "Elapsed 4m 11s\n",
      "\n",
      "Training complete in 4m 11s\n",
      "Best val f1_max: 0.922651\n"
     ]
    }
   ],
   "source": [
    "loo = LeaveOneOut()\n",
    "data_dir = 'E:/cells/train/train'\n",
    "folds = np.array(['fold_0','fold_1','fold_2'])\n",
    "models = []\n",
    "\n",
    "for tr, vl in loo.split(folds):\n",
    "    train_folds = folds[tr]\n",
    "    val_folds = folds[vl]\n",
    "    test_data = folds[vl]\n",
    "    print('=' * 10)\n",
    "    print('VAL FOLD {}'.format(folds[vl][0]))\n",
    "    print('=' * 10)\n",
    "\n",
    "    dataloaders, dataset_sizes, class_names = loader(train_folds, val_folds, test_data, data_dir, bs=24)\n",
    "    model_ft = train_model(model_ft, criterion, optimizer_ft,\n",
    "                           exp_lr_scheduler,\n",
    "                           dataset_sizes=dataset_sizes,\n",
    "                           model_path=model_path,\n",
    "                           dataloaders=dataloaders,\n",
    "                           num_epochs=3, verbose=2000)\n",
    "    models.append(copy.deepcopy(model_ft))"
   ]
  },
  {
   "cell_type": "code",
   "execution_count": null,
   "metadata": {},
   "outputs": [],
   "source": []
  }
 ],
 "metadata": {
  "kernelspec": {
   "display_name": "Python 3",
   "language": "python",
   "name": "python3"
  },
  "language_info": {
   "codemirror_mode": {
    "name": "ipython",
    "version": 3
   },
   "file_extension": ".py",
   "mimetype": "text/x-python",
   "name": "python",
   "nbconvert_exporter": "python",
   "pygments_lexer": "ipython3",
   "version": "3.6.3"
  }
 },
 "nbformat": 4,
 "nbformat_minor": 2
}
